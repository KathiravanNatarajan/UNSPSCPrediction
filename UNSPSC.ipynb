{
 "cells": [
  {
   "cell_type": "markdown",
   "metadata": {},
   "source": [
    "#### Importing required libraries"
   ]
  },
  {
   "cell_type": "code",
   "execution_count": 1,
   "metadata": {
    "collapsed": false
   },
   "outputs": [],
   "source": [
    "import pandas as pd\n",
    "import numpy as np"
   ]
  },
  {
   "cell_type": "markdown",
   "metadata": {},
   "source": [
    "#### Reading data from csv"
   ]
  },
  {
   "cell_type": "code",
   "execution_count": 2,
   "metadata": {
    "collapsed": false
   },
   "outputs": [],
   "source": [
    "df = pd.read_csv('UNSPSCdataset.csv',encoding='mac_roman',low_memory=False)"
   ]
  },
  {
   "cell_type": "code",
   "execution_count": 3,
   "metadata": {
    "collapsed": false
   },
   "outputs": [
    {
     "data": {
      "text/html": [
       "<div>\n",
       "<table border=\"1\" class=\"dataframe\">\n",
       "  <thead>\n",
       "    <tr style=\"text-align: right;\">\n",
       "      <th></th>\n",
       "      <th>MaterialDescription</th>\n",
       "    </tr>\n",
       "  </thead>\n",
       "  <tbody>\n",
       "    <tr>\n",
       "      <th>0</th>\n",
       "      <td>AIRTEL BILLS 22aug TO 23 AUG    2012</td>\n",
       "    </tr>\n",
       "    <tr>\n",
       "      <th>1</th>\n",
       "      <td>AIRTEL MOBILE BILLS 23nov O 22 dec 12</td>\n",
       "    </tr>\n",
       "    <tr>\n",
       "      <th>2</th>\n",
       "      <td>aluminum fabrication work</td>\n",
       "    </tr>\n",
       "    <tr>\n",
       "      <th>3</th>\n",
       "      <td>aluminum fabrication work</td>\n",
       "    </tr>\n",
       "    <tr>\n",
       "      <th>4</th>\n",
       "      <td>civil &amp; plumbing work @ BMT</td>\n",
       "    </tr>\n",
       "  </tbody>\n",
       "</table>\n",
       "</div>"
      ],
      "text/plain": [
       "                      MaterialDescription\n",
       "0    AIRTEL BILLS 22aug TO 23 AUG    2012\n",
       "1   AIRTEL MOBILE BILLS 23nov O 22 dec 12\n",
       "2               aluminum fabrication work\n",
       "3               aluminum fabrication work\n",
       "4             civil & plumbing work @ BMT"
      ]
     },
     "execution_count": 3,
     "metadata": {},
     "output_type": "execute_result"
    }
   ],
   "source": [
    "output = 'UNSPSC_Final'\n",
    "y = df[output]\n",
    "features = ['MaterialDescription']\n",
    "X = df[features]\n",
    "X.head()"
   ]
  },
  {
   "cell_type": "markdown",
   "metadata": {},
   "source": [
    "#### Downloading stopwords from nltk"
   ]
  },
  {
   "cell_type": "code",
   "execution_count": null,
   "metadata": {
    "collapsed": true
   },
   "outputs": [],
   "source": [
    "import nltk\n",
    "nltk.download()  # Download text data sets, including stop words"
   ]
  },
  {
   "cell_type": "code",
   "execution_count": 6,
   "metadata": {
    "collapsed": false
   },
   "outputs": [],
   "source": [
    "import re\n",
    "\n",
    "from nltk.corpus import stopwords # Import the stop word list\n",
    "\n",
    "def description_to_words(review_text):\n",
    "    \n",
    "    # 2. Remove non-letters        \n",
    "    letters_only = re.sub(\"[^a-zA-Z]\", \" \", review_text)\n",
    "    # 3. Convert to lower case, split into individual words\n",
    "    words = letters_only.lower().split()\n",
    "    # 4. In Python, searching a set is much faster than searching\n",
    "    #   a list, so convert the stop words to a set\n",
    "    stops = set(stopwords.words(\"english\"))\n",
    "    # 5. Remove stop words\n",
    "    meaningful_words = [w for w in words if not w in stops]\n",
    "    # 6. Join the words back into one string separated by space, \n",
    "    # and return the result.\n",
    "    return( \" \".join( meaningful_words ))\n"
   ]
  },
  {
   "cell_type": "code",
   "execution_count": 12,
   "metadata": {
    "collapsed": false
   },
   "outputs": [
    {
     "name": "stdout",
     "output_type": "stream",
     "text": [
      "aluminum fabrication work\n"
     ]
    }
   ],
   "source": [
    "clean_review = description_to_words(df['MaterialDescription'][3] )\n",
    "print(clean_review)"
   ]
  },
  {
   "cell_type": "code",
   "execution_count": 42,
   "metadata": {
    "collapsed": false
   },
   "outputs": [
    {
     "name": "stdout",
     "output_type": "stream",
     "text": [
      "Cleaning and parsing the training set UNSPSC description...\n",
      "\n",
      "Description 1000 of 45001\n",
      "\n",
      "Description 2000 of 45001\n",
      "\n",
      "Description 3000 of 45001\n",
      "\n",
      "Description 4000 of 45001\n",
      "\n",
      "Description 5000 of 45001\n",
      "\n",
      "Description 6000 of 45001\n",
      "\n",
      "Description 7000 of 45001\n",
      "\n",
      "Description 8000 of 45001\n",
      "\n",
      "Description 9000 of 45001\n",
      "\n",
      "Description 10000 of 45001\n",
      "\n",
      "Description 11000 of 45001\n",
      "\n",
      "Description 12000 of 45001\n",
      "\n",
      "Description 13000 of 45001\n",
      "\n",
      "Description 14000 of 45001\n",
      "\n",
      "Description 15000 of 45001\n",
      "\n",
      "Description 16000 of 45001\n",
      "\n",
      "Description 17000 of 45001\n",
      "\n",
      "Description 18000 of 45001\n",
      "\n",
      "Description 19000 of 45001\n",
      "\n",
      "Description 20000 of 45001\n",
      "\n",
      "Description 21000 of 45001\n",
      "\n",
      "Description 22000 of 45001\n",
      "\n",
      "Description 23000 of 45001\n",
      "\n",
      "Description 24000 of 45001\n",
      "\n",
      "Description 25000 of 45001\n",
      "\n",
      "Description 26000 of 45001\n",
      "\n",
      "Description 27000 of 45001\n",
      "\n",
      "Description 28000 of 45001\n",
      "\n",
      "Description 29000 of 45001\n",
      "\n",
      "Description 30000 of 45001\n",
      "\n",
      "Description 31000 of 45001\n",
      "\n",
      "Description 32000 of 45001\n",
      "\n",
      "Description 33000 of 45001\n",
      "\n",
      "Description 34000 of 45001\n",
      "\n",
      "Description 35000 of 45001\n",
      "\n",
      "Description 36000 of 45001\n",
      "\n",
      "Description 37000 of 45001\n",
      "\n",
      "Description 38000 of 45001\n",
      "\n",
      "Description 39000 of 45001\n",
      "\n",
      "Description 40000 of 45001\n",
      "\n",
      "Description 41000 of 45001\n",
      "\n",
      "Description 42000 of 45001\n",
      "\n",
      "Description 43000 of 45001\n",
      "\n",
      "Description 44000 of 45001\n",
      "\n",
      "Description 45000 of 45001\n",
      "\n"
     ]
    }
   ],
   "source": [
    "# Get the number of reviews based on the dataframe column size\n",
    "num_description = df['MaterialDescription'].size\n",
    "print(\"Cleaning and parsing the training set UNSPSC description...\\n\")\n",
    "clean_description = []\n",
    "for i in range(0, num_description):\n",
    "    # If the index is evenly divisible by 1000, print a message\n",
    "    if( (i+1)%1000 == 0 ):\n",
    "        print(\"Description %d of %d\\n\" % ( i+1, num_description))                                                                  \n",
    "    clean_description.append( description_to_words(df['MaterialDescription'][i] ))"
   ]
  },
  {
   "cell_type": "markdown",
   "metadata": {},
   "source": [
    "#### Printing the list containing the useful words extracted from the training dataset"
   ]
  },
  {
   "cell_type": "code",
   "execution_count": 24,
   "metadata": {
    "collapsed": false
   },
   "outputs": [
    {
     "name": "stdout",
     "output_type": "stream",
     "text": [
      "['airtel bills aug aug', 'airtel mobile bills nov dec', 'aluminum fabrication work', 'aluminum fabrication work', 'civil plumbing work bmt', 'electrical wk elr lab mhb', 'glass door fr gastro main door', 'hosp tack fixing st flr medicine', 'magazine week magic pot', 'magazine week magic pot', 'magazine week magic pot dec', 'magazine week magic pot dec', 'marketing referral fee', 'marketing referral fee', 'nuclear medicine ac repair', 'providing fixing corner guards', 'providing fixing corner guards', 'providing laying cable forcctv camera', 'service charges maint bio medical', 'service chrg fr house keeping staff', 'service chrg fr house keeping staff', 'service chrg fr house keeping staff', 'service chrg fr house keeping staff', 'service chrg fr house keeping staff', 'service chrg fr house keeping staff', 'service chrg fr house keeping staff', 'service chrg fr house keeping staff', 'service chrg fr house keeping staff', 'service chrg fr month may feb', 'service chrg fr month may feb', 'tow ch ups fire invest rad dept', 'tow ren cgs rita rf gnrte rdi frqcy', 'tow ren cgs rita rf gnrte rdi frqcy', 'tow upholstery rec chair nephr', 'towards abl blood gas electrolyte', 'towards abl blood gas electrolyte', 'towards abl blood gas electrolyte', 'towards abl blood gas electrolyte', 'towards abl blood gas electrolyte', 'towards abl blood gas electrolyte', 'towards abl blood gas electrolyte', 'towards abl blood gas electrolyte', 'towards abl blood gas electrolyte', 'towards abl blood gas electrolyte', 'towards abl blood gas electrolyte', 'towards abl blood gas electrolyte', 'towards abl blood gas electrolyte', 'towards abl blood gas electrolyte', 'towards abl blood gas electrolyte', 'towards abl blood gas electrolyte']\n"
     ]
    }
   ],
   "source": [
    "print(clean_description[:50])"
   ]
  },
  {
   "cell_type": "markdown",
   "metadata": {},
   "source": [
    "#### Creating bag of words from the useful word extraction "
   ]
  },
  {
   "cell_type": "code",
   "execution_count": 26,
   "metadata": {
    "collapsed": false
   },
   "outputs": [
    {
     "name": "stdout",
     "output_type": "stream",
     "text": [
      "Creating the bag of words...\n",
      "\n"
     ]
    }
   ],
   "source": [
    "print(\"Creating the bag of words...\\n\")\n",
    "from sklearn.feature_extraction.text import CountVectorizer\n",
    "\n",
    "# Initialize the \"CountVectorizer\" object, which is scikit-learn's\n",
    "# bag of words tool.  \n",
    "vectorizer = CountVectorizer(analyzer = \"word\",   \\\n",
    "                             tokenizer = None,    \\\n",
    "                             preprocessor = None, \\\n",
    "                             stop_words = None,   \\\n",
    "                             max_features = 5000) \n",
    "# fit_transform() does two functions: First, it fits the model\n",
    "# and learns the vocabulary; second, it transforms our training data\n",
    "# into feature vectors. The input to fit_transform should be a list of \n",
    "# strings.\n",
    "train_data_features = vectorizer.fit_transform(clean_description)\n",
    "\n",
    "# Numpy arrays are easy to work with, so convert the result to an \n",
    "# array\n",
    "train_data_features = train_data_features.toarray()"
   ]
  },
  {
   "cell_type": "code",
   "execution_count": 27,
   "metadata": {
    "collapsed": false
   },
   "outputs": [
    {
     "name": "stdout",
     "output_type": "stream",
     "text": [
      "(45001, 5000)\n"
     ]
    }
   ],
   "source": [
    "print(train_data_features.shape)"
   ]
  },
  {
   "cell_type": "code",
   "execution_count": 41,
   "metadata": {
    "collapsed": false
   },
   "outputs": [
    {
     "name": "stdout",
     "output_type": "stream",
     "text": [
      "['aa', 'aaa', 'aag', 'aage', 'aagsk', 'ab', 'aba', 'abbott', 'abc', 'abdominal', 'abgel', 'abl', 'ablation', 'abraxane', 'absorbent', 'absorbing', 'abutment', 'abzorb', 'ac', 'academic', 'acamprol', 'acc', 'accent', 'accentra', 'accents', 'accept', 'access', 'accessories', 'accessory', 'accident', 'acclaim', 'acco', 'accohide', 'accommodates', 'account', 'accounting', 'accs', 'acct', 'accu', 'accucheck', 'accura', 'accuzon', 'ace', 'aceclo', 'acetone', 'acid', 'acidic', 'acidose', 'aciloc', 'acivir', 'acm', 'acme', 'acne', 'acnt', 'acp', 'acra', 'acrylic', 'act', 'actemra', 'actigut', 'actinocin', 'action', 'active', 'activity', 'acto', 'acton', 'actuator', 'acular', 'acuvert', 'ad', 'adalene', 'adams', 'adapter', 'adapters', 'adaptor', 'add', 'adding', 'additional', 'additions', 'addr', 'address', 'addressing', 'adesam', 'adf', 'adferol', 'adh', 'adhesive', 'adj', 'adjustable', 'adler', 'admenta', 'admin', 'adminission', 'admission', 'admont', 'adrenaline', 'adrovit', 'adult', 'adv', 'advance', 'advanced', 'ae', 'aerocort', 'aerodil', 'aeromist', 'aerosol', 'aerrane', 'af', 'affinity', 'aficio', 'afinitor', 'afm', 'afp', 'ag', 'agappe', 'agent', 'agents', 'aggramed', 'aggritor', 'agraban', 'agribusiness', 'ah', 'ahdl', 'ahu', 'aia', 'aicid', 'aid', 'aikin', 'air', 'airfit', 'airtec', 'airtel', 'airway', 'aisle', 'ak', 'akt', 'akurit', 'al', 'alaspan', 'albet', 'album', 'albumen', 'albumin', 'alburel', 'alcalci', 'alcefo', 'alert', 'alex', 'alfa', 'alkaline', 'allegra', 'allercet', 'allied', 'allout', 'allyn', 'aloe', 'alot', 'alp', 'alpha', 'alphabetical', 'alprax', 'alt', 'althrocin', 'altl', 'altraday', 'alubumin', 'aluminium', 'aluminum', 'alupent', 'ama', 'amantrel', 'amar', 'amaraillo', 'amarillo', 'amaryl', 'amber', 'ambrodil', 'amc', 'amcard', 'america', 'american', 'amfocare', 'amifru', 'aminophylline', 'aminosteril', 'aminoven', 'amitax', 'amitone', 'amlip', 'amlo', 'amlodac', 'amlogard', 'amlong', 'amloz', 'amlozaar', 'amp', 'ampad', 'amphomul', 'ampoterecin', 'ampoule', 'ampoxin', 'ampppad', 'amps', 'amsyc', 'amylac', 'amylase', 'ana', 'anabel', 'anaerobic', 'analyser', 'analysis', 'analytical', 'analyzer', 'anawin', 'anca', 'anchor', 'ancomycin', 'andrew', 'anesthetic', 'aneurysm', 'angicor', 'angio', 'angispan', 'angistat', 'angle', 'angled', 'anitrop', 'ankle', 'anniversary', 'announcement', 'anodized', 'anofer', 'anovate', 'anthonem', 'anti', 'antibact', 'antiflu', 'antigen', 'antimicrobial', 'antiseptic', 'antisnake', 'antonio', 'antoxid', 'anxit', 'ao', 'aomc', 'aort', 'aova', 'ap', 'apex', 'apollo', 'app', 'apparatus', 'appetite', 'application', 'applications', 'applicator', 'applique', 'appoint', 'appointment', 'approved', 'appt', 'apresol', 'april', 'apron', 'apt', 'aptivate', 'aq', 'aqua', 'aquabact', 'aquamet', 'aquatic', 'aqueous', 'ar', 'aravon', 'architect', 'architects', 'arimidex', 'aristo', 'ark', 'arm', 'armboard', 'arms', 'army', 'arogyasri', 'aromasin', 'around', 'arpitor', 'arr', 'array', 'arrival', 'arrow', 'arrowflag', 'arrows', 'arsenazo', 'art', 'artacil', 'arterial', 'artery', 'arthocerin', 'arthroscopy', 'artiflex', 'artist', 'artline', 'artur', 'arvast', 'arzep', 'asa', 'ascoril', 'asd', 'aseptic', 'asma', 'aso', 'asp', 'aspen', 'aspire', 'aspisol', 'ass', 'assay', 'assemblie', 'assemblies', 'assembly', 'assistance', 'asso', 'assoc', 'assor', 'assort', 'assorted', 'assortment', 'asst', 'assurans', 'assy', 'ast', 'aster', 'asthafen', 'asthalin', 'astl', 'astral', 'astrobrights', 'asunra', 'atarax', 'aten', 'aterial', 'ativan', 'atlantis', 'atocor', 'atorec', 'atorfit', 'atorica', 'atornet', 'atorsave', 'atorva', 'atr', 'atrapure', 'atropine', 'attache', 'attached', 'attachment', 'atten', 'attendance', 'attn', 'atvast', 'au', 'audio', 'audiogram', 'auer', 'aug', 'augmate', 'augmentin', 'augmexx', 'aurocort', 'aurora', 'aut', 'auto', 'autoadhesive', 'autoclavable', 'autoclave', 'automated', 'automatic', 'autrin', 'av', 'avacard', 'avastin', 'ave', 'avenue', 'aver', 'avery', 'averyr', 'avesr', 'avil', 'avonex', 'away', 'awd', 'ax', 'axeten', 'axial', 'axium', 'ay', 'az', 'azee', 'azitab', 'azithroton', 'aziwok', 'azotel', 'azt', 'aztor', 'aztreonam', 'aztum', 'ba', 'baby', 'back', 'backagency', 'backed', 'backer', 'backing', 'backlit', 'baclof', 'bact', 'bacterial', 'bactigras', 'bacto', 'bactrim', 'badge', 'bag', 'bags', 'bakersfield', 'bal', 'balck', 'ball', 'ballast', 'balloon', 'balloons', 'ballpoint', 'ballpt', 'ballr', 'balls', 'baln', 'baloon', 'balox', 'bambudil', 'band', 'bandage', 'bands', 'bandy', 'bangalore', 'bank', 'banker', 'banner', 'banners', 'bapuji', 'bar', 'barr', 'barrel', 'base', 'based', 'bases', 'basic', 'basin', 'basket', 'bat', 'batch', 'bates', 'bath', 'bathroom', 'battery', 'bau', 'baumgarten', 'baxter', 'bay', 'baycip', 'bayer', 'bayw', 'bb', 'bc', 'bcg', 'bci', 'bcns', 'bd', 'bdb', 'bdy', 'bearing', 'becadexamin', 'becelac', 'beckaman', 'beclate', 'becosules', 'becozym', 'bed', 'beiersdorf', 'beige', 'bell', 'belt', 'benadryl', 'bendex', 'benfomet', 'bengel', 'bennett', 'benq', 'bent', 'berirab', 'bermuda', 'berry', 'betacap', 'betacard', 'betadin', 'betadine', 'betavert', 'betnesol', 'betnovate', 'bett', 'better', 'betzler', 'beveled', 'beverage', 'beverages', 'bevon', 'bexol', 'beyer', 'bf', 'bg', 'bga', 'bharathi', 'bi', 'biatain', 'bib', 'bic', 'bicarbonate', 'bicbl', 'biceltis', 'bicgb', 'bicgbl', 'bicgpm', 'bicgsm', 'bicr', 'bicvcg', 'bicwotapp', 'biduret', 'bifosa', 'big', 'bil', 'bilclav', 'biliary', 'bilirubin', 'bill', 'billing', 'bills', 'bilovas', 'biltrl', 'bin', 'bind', 'binder', 'binders', 'bindery', 'binding', 'bio', 'biocillin', 'biodexone', 'biomerieux', 'biometric', 'biophencol', 'biopsy', 'biorad', 'biovital', 'bipap', 'bipolar', 'birth', 'birthday', 'bis', 'bit', 'bite', 'bits', 'bjc', 'bk', 'bkl', 'bks', 'bl', 'bla', 'blac', 'black', 'blackbinders', 'blackink', 'bladder', 'blade', 'bladeless', 'blanchat', 'blank', 'blanket', 'blck', 'bld', 'bldg', 'ble', 'bleach', 'bleached', 'blend', 'bleocip', 'blk', 'blkid', 'bln', 'bloc', 'blocks', 'blood', 'blooms', 'blotter', 'blouse', 'blu', 'blue', 'blueink', 'blueline', 'blueprint', 'bluestar', 'blunt', 'bm', 'bn', 'bndr', 'bo', 'boa', 'board', 'boardgear', 'boards', 'boc', 'body', 'bodyline', 'boiler', 'boise', 'bold', 'bolt', 'bolts', 'bon', 'bond', 'bonded', 'bone', 'book', 'bookend', 'bookends', 'booklet', 'booklets', 'bookmark', 'books', 'boostim', 'border', 'borrowers', 'bos', 'boss', 'bostitch', 'boston', 'bottle', 'bottles', 'bottom', 'bound', 'bouquet', 'bowel', 'bowes', 'box', 'boxes', 'bp', 'bphb', 'bpo', 'bprotin', 'br', 'brace', 'bradley', 'bran', 'brand', 'brass', 'braun', 'brd', 'bread', 'breathing', 'brian', 'bricarex', 'bridge', 'brigh', 'bright', 'brightne', 'brightness', 'brights', 'bristol', 'brit', 'brite', 'brites', 'brl', 'brm', 'brn', 'bro', 'broad', 'broadchip', 'broadline', 'brochure', 'brochures', 'brom', 'bromhexene', 'broncho', 'broncorex', 'brooks', 'broom', 'brophyle', 'bros', 'brother', 'brothers', 'broucher', 'brown', 'brownline', 'brozeet', 'brst', 'brt', 'brtsk', 'brttn', 'brttx', 'brufen', 'brush', 'bruspaz', 'bs', 'bsc', 'bsn', 'bsns', 'bt', 'btl', 'bu', 'bubble', 'bucket', 'budamate', 'buddy', 'budget', 'buf', 'buff', 'bug', 'built', 'bulb', 'bulk', 'bulldog', 'bullet', 'bulletin', 'bundle', 'bundles', 'bundling', 'bunsen', 'bupitroy', 'buprigesic', 'bur', 'bureau', 'burg', 'burgundy', 'burkhart', 'burner', 'burns', 'burs', 'bus', 'buscopan', 'bush', 'business', 'bussiness', 'butcher', 'butodol', 'butrum', 'button', 'buy', 'buyout', 'bw', 'bwdtchd', 'bwssb', 'bx', 'bxs', 'bypass', 'ca', 'caberlin', 'cabinet', 'cabinets', 'cable', 'caca', 'caddy', 'cadotril', 'cafirate', 'cage', 'cal', 'calak', 'calander', 'calapure', 'calc', 'calcijet', 'calcirol', 'calcium', 'calcomp', 'calculator', 'caldikind', 'caldyne', 'calendar', 'calendared', 'calendars', 'calender', 'calenders', 'calibration', 'calibrator', 'calkem', 'call', 'calling', 'calmpose', 'caloe', 'calpol', 'cals', 'caltive', 'calutide', 'calviz', 'camc', 'camera', 'campaign', 'canary', 'cancekkous', 'cancelled', 'cancelling', 'cancellous', 'cancelous', 'cancer', 'cancidas', 'candibiotic', 'candid', 'candiderma', 'canditral', 'candy', 'canesten', 'cannon', 'cannula', 'cannulated', 'canon', 'canteen', 'canton', 'canvas', 'cap', 'capa', 'capac', 'capaci', 'capacitor', 'capacity', 'capiibine', 'capnea', 'caprin', 'caps', 'capsain', 'capsule', 'capsules', 'car', 'carbide', 'carbon', 'carbonless', 'carboplatin', 'card', 'cardace', 'cardase', 'cardboard', 'cardinal', 'cardivas', 'cards', 'cardstock', 'care', 'carefree', 'carl', 'carloc', 'carnisure', 'carnitor', 'carpenter', 'carpentry', 'carriage', 'carry', 'cart', 'carter', 'cartidge', 'cartidges', 'cartigen', 'carton', 'cartr', 'cartrdge', 'cartri', 'cartride', 'cartridge', 'cartridges', 'cartridgetonerhp', 'cartrige', 'carts', 'case', 'cash', 'cashment', 'casing', 'cassette', 'cassettes', 'cast', 'casual', 'cat', 'catalog', 'catch', 'cath', 'cathater', 'catheter', 'cathflush', 'cathlab', 'cathter', 'catridge', 'cavafix', 'cb', 'cc', 'ccb', 'ccl', 'ccs', 'cctv', 'cd', 'cdh', 'cdr', 'cds', 'cdw', 'ce', 'ceb', 'cebanex', 'cefakind', 'cefazolin', 'cefdiel', 'cefolac', 'cefoperazone', 'cefozyt', 'ceftas', 'ceftazidime', 'ceftrizone', 'ceftum', 'cegava', 'ceiling', 'celebrate', 'celin', 'cell', 'cellcept', 'cello', 'cellotape', 'cells', 'celrim', 'cement', 'censpram', 'center', 'centerpull', 'centerstage', 'centisilk', 'centisorb', 'central', 'centrifuge', 'century', 'cepodem', 'cept', 'ceramic', 'cercon', 'cereflo', 'certificate', 'certificates', 'certofix', 'cervical', 'cervicle', 'cetaphil', 'cetapin', 'cetil', 'cetrine', 'cetzine', 'cf', 'cfb', 'cfl', 'cgt', 'ch', 'cha', 'chain', 'chair', 'chalk', 'chalkboard', 'chalkboards', 'champ', 'change', 'channel', 'chappal', 'character', 'characters', 'charcoal', 'charger', 'charges', 'chart', 'chartpak', 'check', 'checking', 'checklist', 'checks', 'chek', 'chemo', 'cherry', 'chest', 'chewable', 'chicago', 'chichen', 'child', 'chiller', 'chilton', 'china', 'chips', 'chis', 'chisel', 'chiseltp', 'chocolate', 'chod', 'choice', 'choke', 'cholesterol', 'cholestrol', 'chrg', 'chris', 'christmas', 'christopher', 'chrome', 'chsl', 'chymoral', 'ci', 'cidex', 'cifran', 'cilacar', 'cilasafe', 'cilodoc', 'cin', 'cintapro', 'cintodac', 'ciplactin', 'cipladine', 'ciplar', 'ciplox', 'circle', 'circles', 'circuit', 'circute', 'citinova', 'citistar', 'citizen', 'citra', 'citralka', 'citric', 'citrus', 'civil', 'cj', 'cjg', 'ck', 'cl', 'cladribine', 'cladrim', 'claims', 'clamp', 'clamps', 'claribid', 'clarimin', 'clarius', 'clark', 'clasp', 'class', 'classi', 'classic', 'classiccut', 'classification', 'classified', 'classpack', 'classroom', 'clavam', 'clavical', 'clavicle', 'clavix', 'clavulanic', 'claw', 'clay', 'cle', 'clea', 'clean', 'cleancell', 'cleaner', 'cleaners', 'cleaning', 'clear', 'clearance', 'clearitol', 'clearprint', 'cleartabs', 'clearview', 'clearvue', 'cleno', 'cleveland', 'clexane', 'cli', 'clic', 'click', 'clicker', 'clickster', 'client', 'clinaxon', 'clinch', 'cling', 'clingen', 'clinical', 'clip', 'clipboard', 'clipper', 'clips', 'clj', 'cll', 'clock', 'clocks', 'clogs', 'clohex', 'clonate', 'cloneon', 'clonotril', 'clop', 'clopiklot', 'clopilet', 'clopitab', 'clopivas', 'clopixol', 'closed', 'closer', 'closure', 'cloth', 'clr', 'clsp', 'club', 'clutch', 'cm', 'cms', 'cmx', 'cn', 'cnm', 'cnmf', 'cnry', 'cntr', 'co', 'coastlines', 'coat', 'coated', 'coating', 'cobaday', 'cobadex', 'cobb', 'cock', 'cockpit', 'coconet', 'cocoon', 'cod', 'code', 'coded', 'coding', 'codistar', 'codylex', 'coef', 'cofaid', 'cognipro', 'cognix', 'coil', 'coin', 'coins', 'coirmat', 'col', 'cold', 'colicaid', 'colistin', 'coll', 'collar', 'collating', 'collator', 'collection', 'collector', 'collectors', 'college', 'coller', 'collins', 'colo', 'coloplast', 'color', 'colored', 'colors', 'colorsphere', 'colorstik', 'colospa', 'colosphere', 'colostomy', 'colour', 'coloured', 'colours', 'colr', 'columbianr', 'columbus', 'columnar', 'columns', 'colvac', 'com', 'comb', 'combbind', 'combiflam', 'combihale', 'combimist', 'combinase', 'combination', 'combined', 'combipack', 'combiquic', 'combirack', 'combo', 'combodock', 'combs', 'combutol', 'comformate', 'comfort', 'comfortable', 'comfortmate', 'comm', 'commercial', 'comml', 'commode', 'comp', 'compa', 'compact', 'company', 'compartment', 'compartments', 'compas', 'compass', 'compat', 'compatable', 'compatibility', 'compatible', 'compl', 'complete', 'completed', 'composition', 'compressed', 'compressor', 'computation', 'computer', 'comscope', 'comvac', 'conan', 'conc', 'concealed', 'concentrate', 'concierge', 'concor', 'conditioner', 'conductor', 'conduit', 'conf', 'conference', 'confetti', 'confidential', 'configure', 'confirm', 'congrats', 'congratulations', 'conklin', 'connector', 'connects', 'consent', 'console', 'consolidation', 'construction', 'consultancy', 'consultant', 'consultation', 'consumables', 'contactor', 'container', 'contains', 'contemporary', 'contents', 'contiflo', 'continental', 'continuous', 'contour', 'contoured', 'contra', 'contract', 'contractubex', 'control', 'controled', 'controller', 'convales', 'convex', 'cook', 'cool', 'coolgut', 'coordinator', 'cop', 'copie', 'copier', 'copiers', 'copies', 'copper', 'copy', 'copycentre', 'copyholder', 'copyholders', 'copying', 'copypaper', 'copyplus', 'copystar', 'cor', 'cora', 'corail', 'coral', 'corcal', 'cord', 'cordarone', 'cordis', 'cordless', 'core', 'corection', 'coreless', 'coresp', 'corex', 'cork', 'corkboard', 'corner', 'corners', 'cornitor', 'corona', 'coronnium', 'corp', 'corporate', 'corr', 'correc', 'correct', 'correctable', 'correctible', 'correcting', 'correctio', 'correction', 'correctional', 'correcton', 'corrector', 'correspondance', 'corretion', 'corrugated', 'corset', 'cortex', 'cortical', 'cortimax', 'cortisol', 'cos', 'cosco', 'cosmelite', 'cosmic', 'coso', 'cost', 'costco', 'cot', 'cotton', 'cottonelle', 'cough', 'count', 'counter', 'counterfeit', 'counters', 'counting', 'coupling', 'coupons', 'courier', 'cov', 'covance', 'cove', 'cover', 'coverage', 'covered', 'covers', 'coverslip', 'coversyl', 'cozy', 'cp', 'cpap', 'cppli', 'cpressin', 'cpvc', 'cr', 'crack', 'craft', 'crainotome', 'craniotome', 'crash', 'crayola', 'crayon', 'crayons', 'crctn', 'crd', 'cream', 'create', 'created', 'creatinine', 'creative', 'creatnine', 'credit', 'cremadiet', 'cremaffin', 'cremagel', 'cremalax', 'crep', 'crepe', 'crepebandage', 'creped', 'crescendo', 'cresp', 'crest', 'crg', 'crile', 'crimp', 'crimson', 'cristal', 'cristol', 'critipro', 'crixan', 'crm', 'cro', 'crocin', 'cross', 'crown', 'crp', 'crtg', 'crutches', 'crystal', 'cs', 'csm', 'csro', 'ct', 'ctd', 'ctg', 'ctn', 'ctrg', 'cube', 'cubes', 'cubicin', 'cubicle', 'cuff', 'culture', 'cup', 'cupboard', 'currency', 'curtains', 'curuved', 'curved', 'curves', 'cushgrp', 'cushion', 'cust', 'custom', 'customer', 'customizable', 'cut', 'cutenox', 'cuticell', 'cutless', 'cutter', 'cutting', 'cuvettes', 'cv', 'cvd', 'cx', 'cy', 'cyan', 'cybin', 'cyclopam', 'cycloxan', 'cyklokapron', 'cylinder', 'cymevene', 'cytoblastin', 'cytocristin', 'cytogem', 'cytology', 'cytosar', 'cytotam', 'czs', 'da', 'dacilon', 'dacotin', 'daflon', 'daily', 'dalacin', 'dalcinex', 'daniel', 'daonil', 'darbepoetin', 'dark', 'darolac', 'data', 'date', 'dated', 'dater', 'daters', 'daunomycin', 'dave', 'david', 'daxid', 'daxotel', 'day', 'dayminder', 'dayplanners', 'daytimer', 'daztor', 'db', 'dbl', 'dblanchat', 'dc', 'dcp', 'dds', 'de', 'deal', 'deanxit', 'debit', 'debridace', 'dec', 'deca', 'decarb', 'decdak', 'decden', 'decembe', 'december', 'deck', 'decmax', 'decor', 'deep', 'def', 'defcort', 'defibrillator', 'deg', 'degree', 'del', 'deliver', 'delivery', 'dell', 'delok', 'delux', 'deluxe', 'dengue', 'denis', 'dental', 'denture', 'department', 'departmental', 'depin', 'deplatt', 'depo', 'depomedrol', 'depopred', 'deposit', 'depot', 'depotex', 'depotr', 'depsol', 'dept', 'derby', 'derinide', 'deriphyllin', 'deriphylline', 'deriva', 'dermadew', 'dermogard', 'des', 'design', 'designed', 'designer', 'designjet', 'designs', 'desk', 'deskjet', 'deskpad', 'desktop', 'desowen', 'destoner', 'desval', 'det', 'detector', 'detloc', 'dettol', 'developer', 'development', 'device', 'devid', 'deviry', 'dex', 'dexdine', 'dexolac', 'dexona', 'dextomid', 'dextrose', 'df', 'dfx', 'di', 'dia', 'diabetrol', 'dial', 'dialta', 'dialyser', 'dialysis', 'dialyzer', 'diameter', 'diamicron', 'diamond', 'diamox', 'dianorm', 'diapers', 'diaries', 'diary', 'diaz', 'dibizide', 'dicorate', 'dictation', 'dicynene', 'die', 'diego', 'diet', 'dietary', 'diff', 'digecaine', 'digene', 'digital', 'dilantin', 'dilation', 'diligan', 'dilnip', 'diltiact', 'dilzem', 'dim', 'dimes', 'dinner', 'dipgenta', 'dipsalic', 'direct', 'director', 'dis', 'disc', 'discharge', 'dish', 'disinfection', 'dismantling', 'disp', 'dispencer', 'dispens', 'dispense', 'dispenser', 'dispensers', 'dispensor', 'disperzyme', 'display', 'dispo', 'dispos', 'disposable', 'disposible', 'dispovan', 'distal', 'distill', 'distinctions', 'disulfiram', 'div', 'divaa', 'divalprid', 'divider', 'dividers', 'division', 'dix', 'dixon', 'dj', 'dk', 'dl', 'dlp', 'dlu', 'dm', 'dmro', 'dn', 'dnp', 'dns', 'dobustat', 'doc', 'docetere', 'docket', 'doctors', 'docucolor', 'document', 'documents', 'docuprint', 'dolo', 'dolonex', 'domstal', 'donamem', 'donep', 'donepezil', 'donor', 'doolittle', 'door', 'dopar', 'dorado', 'dorimark', 'doripen', 'dornier', 'dot', 'dothip', 'dots', 'double', 'dove', 'doverin', 'doxinate', 'doxolin', 'doxovent', 'doxt', 'doxy', 'doz', 'dozen', 'dp', 'dpi', 'dpp', 'dr', 'drab', 'draeger', 'draft', 'drafting', 'drain', 'drainage', 'drape', 'drawer', 'drawers', 'drawing', 'dress', 'dressing', 'dri', 'drill', 'dring', 'drive', 'drolgan', 'drop', 'dropper', 'droppers', 'drops', 'drotin', 'drug', 'drugs', 'drum', 'drwr', 'dry', 'dryerase', 'drying', 'dryline', 'ds', 'dskjt', 'dsktp', 'dsl', 'dswet', 'dt', 'dtm', 'dty', 'dual', 'dublin', 'duck', 'dulane', 'dulcolax', 'dummy', 'duo', 'duolin', 'duomate', 'duonem', 'duotrol', 'duphalac', 'duplex', 'duplexer', 'duplicator', 'dura', 'durable', 'durabolin', 'duracell', 'durataz', 'dust', 'duster', 'dusters', 'dusting', 'dustless', 'dutas', 'duty', 'duvadilan', 'dvd', 'dvg', 'dvt', 'dx', 'dxn', 'dy', 'dycerin', 'dylux', 'dymo', 'dyna', 'dynaflo', 'dynagrip', 'dynamics', 'dynapar', 'dynaplast', 'dytor', 'dytorplus', 'dz', 'ea', 'earser', 'earth', 'earthscapes', 'easel', 'easy', 'easytouch', 'eberhard', 'ebk', 'ebony', 'ec', 'echo', 'eci', 'eco', 'ecodent', 'econo', 'economical', 'economy', 'ecovue', 'ed', 'eday', 'edge', 'edison', 'edition', 'edward', 'eft', 'egel', 'eglin', 'eh', 'eight', 'el', 'elastic', 'elbow', 'eld', 'eldon', 'elec', 'elecsys', 'electric', 'electrical', 'electrolyte', 'electronic', 'elements', 'elesys', 'elevators', 'eliso', 'elite', 'elitetm', 'elix', 'ellison', 'em', 'embosing', 'embossed', 'embossing', 'emerald', 'emergency', 'emp', 'employee', 'employees', 'empty', 'emulation', 'en', 'enamel', 'enclosed', 'end', 'endo', 'endorser', 'endorsers', 'endorsing', 'endoscope', 'ends', 'energel', 'eng', 'engineer', 'engineering', 'engineers', 'english', 'engraved', 'enlarger', 'entered', 'entry', 'env', 'enve', 'envelop', 'envelope', 'envelopes', 'enveloppe', 'enveloppes', 'envelops', 'ep', 'epcos', 'eps', 'epson', 'epst', 'eqpt', 'equipment', 'er', 'erasable', 'erase', 'eraser', 'erasers', 'erba', 'erc', 'ergo', 'ergonomic', 'ergotwist', 'erick', 'ero', 'es', 'esp', 'ess', 'essential', 'essentials', 'et', 'ethyline', 'euro', 'euroimmun', 'ev', 'evalution', 'everbold', 'eversharp', 'everyday', 'evidence', 'evident', 'ex', 'exact', 'exam', 'examination', 'exclaim', 'exec', 'execulabel', 'executive', 'exi', 'exit', 'exp', 'expandable', 'expanding', 'expands', 'expansion', 'expectorant', 'expense', 'expo', 'exposure', 'express', 'expressions', 'expresso', 'ext', 'extended', 'extension', 'extra', 'extravalue', 'eye', 'ez', 'ezd', 'fa', 'fab', 'faber', 'fabric', 'fabrication', 'facial', 'facsimile', 'factory', 'faint', 'fan', 'fanfold', 'farm', 'farms', 'fashion', 'fast', 'fastener', 'fasteners', 'fastfold', 'fastner', 'fault', 'faux', 'fax', 'faxed', 'faxswitch', 'fb', 'fc', 'fd', 'featherlite', 'feb', 'fee', 'feed', 'feeder', 'feeders', 'feel', 'feet', 'fel', 'fellowers', 'fellowes', 'felt', 'femoral', 'femur', 'ff', 'fg', 'fi', 'fiber', 'fiberboard', 'fibre', 'field', 'fiji', 'file', 'files', 'filing', 'fill', 'filler', 'film', 'films', 'fils', 'filter', 'fin', 'financial', 'fine', 'finept', 'finger', 'fingers', 'fingertip', 'finish', 'finished', 'fire', 'firm', 'first', 'fiskars', 'fissure', 'fistula', 'fits', 'five', 'fix', 'fixed', 'fixer', 'fixing', 'fl', 'flag', 'flags', 'flair', 'flammable', 'flap', 'flat', 'flatbed', 'flavour', 'fldr', 'fleece', 'flex', 'flexgrip', 'flexible', 'flexigrip', 'flexo', 'flip', 'flo', 'flohep', 'floor', 'floral', 'florescent', 'florida', 'floswitch', 'flou', 'flourescent', 'flow', 'flp', 'flr', 'flrcnt', 'flt', 'fluid', 'fluo', 'fluor', 'fluorescent', 'flux', 'fm', 'fmc', 'fn', 'fo', 'foam', 'foil', 'foils', 'fold', 'folded', 'folder', 'folders', 'following', 'font', 'fonts', 'food', 'foolscap', 'foot', 'foray', 'forceps', 'forged', 'form', 'format', 'formation', 'forms', 'formula', 'forte', 'fossilized', 'fountain', 'four', 'fp', 'fr', 'fragrance', 'frame', 'framed', 'free', 'freezer', 'fresenius', 'fresh', 'frm', 'front', 'frost', 'frozen', 'fruit', 'frx', 'fs', 'ft', 'fta', 'ftj', 'fuji', 'full', 'fullstrip', 'fully', 'function', 'fund', 'fuser', 'fusers', 'fusion', 'fx', 'fyi', 'ga', 'gal', 'gallon', 'gambro', 'gamma', 'garcia', 'gartmore', 'garza', 'gas', 'gates', 'gauge', 'gb', 'gbc', 'gbl', 'gc', 'gcc', 'gcs', 'gct', 'gd', 'ge', 'gears', 'gel', 'gell', 'gem', 'gen', 'general', 'generator', 'generic', 'genicom', 'genuine', 'geo', 'geographics', 'geometric', 'gep', 'germany', 'germinating', 'get', 'geyser', 'gia', 'giallo', 'giant', 'gift', 'gifts', 'gl', 'glance', 'glare', 'glass', 'glazed', 'gliding', 'globus', 'gloss', 'glossy', 'gluconate', 'glue', 'glued', 'gm', 'gmd', 'gms', 'gn', 'go', 'godrej', 'gold', 'golden', 'goldenrod', 'gonzales', 'good', 'gov', 'govt', 'gown', 'gp', 'gpc', 'gpm', 'gpr', 'gr', 'grade', 'graft', 'grain', 'gram', 'granite', 'granules', 'granulocyt', 'graph', 'graphic', 'graphite', 'grasper', 'gravity', 'gray', 'grayscale', 'gre', 'great', 'gree', 'green', 'greeting', 'greetings', 'gregg', 'grey', 'gri', 'grid', 'grieshaber', 'grip', 'griptm', 'grn', 'grooved', 'group', 'grp', 'gs', 'gsa', 'gsf', 'gsm', 'gsmg', 'gt', 'guard', 'guide', 'guides', 'guiding', 'guiney', 'gum', 'gummed', 'gun', 'gx', 'gy', 'hacksaw', 'haematinic', 'haidylena', 'half', 'halter', 'ham', 'hammermill', 'hand', 'handed', 'handheld', 'handle', 'handsets', 'handwriting', 'hang', 'hanger', 'hanging', 'hard', 'hardbound', 'harmony', 'harper', 'harrisburg', 'hav', 'hawai', 'hb', 'hba', 'hbs', 'hcg', 'hcl', 'hcv', 'hd', 'hdl', 'head', 'header', 'heads', 'health', 'heat', 'heater', 'heating', 'heatseal', 'heavy', 'heavyduty', 'heavyweight', 'height', 'helipad', 'helix', 'helvetica', 'hem', 'hemtology', 'hepa', 'hew', 'hewc', 'hewlett', 'hewq', 'hi', 'hicare', 'hicks', 'high', 'highland', 'highligh', 'highlight', 'highlighter', 'highlighters', 'highlighting', 'highlights', 'highliter', 'highliters', 'hightlighters', 'highway', 'higlighters', 'hilighter', 'hilighters', 'hilite', 'hiliter', 'hiliters', 'hilitr', 'hills', 'himedia', 'hip', 'hitachi', 'hiv', 'hk', 'hl', 'hm', 'ho', 'hod', 'hol', 'hold', 'holder', 'holders', 'holds', 'hole', 'holes', 'holiday', 'home', 'hon', 'hook', 'hooks', 'horiz', 'horizontal', 'horray', 'hot', 'hour', 'hourly', 'house', 'houston', 'hp', 'hpc', 'hpg', 'hplj', 'hps', 'hpu', 'hr', 'hs', 'ht', 'hudson', 'human', 'hun', 'hvac', 'hvy', 'hvydty', 'hw', 'hwy', 'hy', 'hybrid', 'hybritech', 'hygieia', 'ia', 'iap', 'ibm', 'ic', 'icon', 'id', 'ide', 'ideal', 'identification', 'ifcap', 'igg', 'igm', 'ii', 'iii', 'il', 'im', 'image', 'imagerunner', 'imaging', 'imf', 'impact', 'impega', 'important', 'impresora', 'impression', 'imprint', 'imprints', 'impulse', 'inc', 'inch', 'inches', 'inchs', 'incline', 'includes', 'ind', 'index', 'indexed', 'indexes', 'individual', 'individually', 'industrial', 'industries', 'infant', 'info', 'infoprint', 'information', 'infusion', 'ing', 'inhalation', 'inhaler', 'inj', 'injection', 'injet', 'ink', 'inkable', 'inkcart', 'inked', 'inker', 'inkers', 'inking', 'inkje', 'inkjet', 'inmind', 'innovative', 'input', 'ins', 'insert', 'insertable', 'inserts', 'inside', 'insight', 'insp', 'inspection', 'inspire', 'installation', 'instant', 'instrument', 'instruments', 'insulin', 'insurance', 'int', 'intake', 'intellifax', 'intensive', 'inter', 'interactive', 'interconnecting', 'interior', 'interlocking', 'intermec', 'intermediaries', 'intermediate', 'international', 'interoffice', 'intimus', 'inv', 'inventory', 'invit', 'invitation', 'invoice', 'inx', 'ip', 'ir', 'iso', 'iss', 'ist', 'italia', 'item', 'itr', 'iu', 'iug', 'iv', 'ivo', 'ivory', 'jac', 'jacket', 'jackets', 'jackson', 'jae', 'jam', 'jan', 'january', 'jar', 'jaune', 'jaw', 'jc', 'jcp', 'jd', 'jell', 'jet', 'jetstream', 'jiffy', 'jiffylite', 'jimenez', 'jimnie', 'jl', 'jlafm', 'jms', 'jnc', 'job', 'joey', 'jogger', 'jogging', 'john', 'jones', 'journal', 'jr', 'jrt', 'judkins', 'juha', 'juice', 'july', 'jumbo', 'june', 'junior', 'jwod', 'kc', 'kcc', 'keep', 'keeping', 'kent', 'kenwood', 'key', 'keyboard', 'kf', 'kfr', 'kft', 'kg', 'kgb', 'kid', 'kids', 'kim', 'kimberly', 'king', 'kissan', 'kit', 'kitchen', 'kits', 'kk', 'kkpm', 'kksk', 'kl', 'klean', 'kleen', 'kleencut', 'kleenearth', 'kleenex', 'km', 'kmw', 'knee', 'knife', 'kodak', 'koh', 'konica', 'kora', 'koranek', 'kores', 'kote', 'kr', 'kra', 'kraf', 'kraft', 'kraker', 'krift', 'kryolan', 'ks', 'kt', 'ktn', 'kva', 'kw', 'kx', 'kxp', 'ky', 'kyld', 'kyocera', 'la', 'lab', 'label', 'labeler', 'labeling', 'labelling', 'labelmaker', 'labelmanager', 'labels', 'lable', 'labor', 'laboratory', 'labour', 'lading', 'laid', 'lake', 'lam', 'lamay', 'lambert', 'lamenectomy', 'lamin', 'laminate', 'laminated', 'laminates', 'laminating', 'lamination', 'laminator', 'laminators', 'lamp', 'lancets', 'landscape', 'lane', 'language', 'lanier', 'laptop', 'laqer', 'larg', 'large', 'larger', 'larry', 'laryngoscope', 'lase', 'laser', 'laserjet', 'lassco', 'latch', 'latex', 'lathem', 'launch', 'launcher', 'laundry', 'lavender', 'lay', 'layer', 'layout', 'lazer', 'lb', 'lbl', 'lbs', 'lc', 'lcd', 'lckg', 'ld', 'ldc', 'ldr', 'le', 'lead', 'leader', 'leads', 'leaf', 'leagal', 'leak', 'lease', 'leather', 'lecture', 'led', 'ledger', 'lee', 'left', 'leg', 'legal', 'legalruled', 'legend', 'lemon', 'length', 'lenne', 'lenovo', 'lens', 'leo', 'leonard', 'lequid', 'less', 'let', 'letr', 'lett', 'lette', 'letter', 'letterhead', 'lettering', 'letters', 'level', 'levels', 'lever', 'lewis', 'lex', 'lexmark', 'lg', 'lge', 'lgl', 'lh', 'liberty', 'library', 'libray', 'license', 'lid', 'life', 'lifemedicare', 'lifesavers', 'lift', 'lifter', 'lifters', 'liga', 'ligator', 'light', 'lighter', 'lighters', 'lighthouse', 'lighttouch', 'lightweight', 'like', 'limb', 'lime', 'linctus', 'line', 'lined', 'linen', 'liner', 'liners', 'lines', 'lining', 'link', 'lipsky', 'liq', 'liqid', 'liquicheck', 'liquid', 'list', 'lister', 'lit', 'lite', 'liter', 'literature', 'liters', 'lithotripter', 'lj', 'lk', 'lm', 'lo', 'load', 'loading', 'loc', 'location', 'lock', 'lockable', 'locker', 'locking', 'locust', 'log', 'logiq', 'logo', 'lok', 'long', 'loose', 'looseleaf', 'lopc', 'lor', 'lorell', 'loss', 'lost', 'lot', 'lotion', 'lou', 'low', 'lowell', 'lower', 'lowercase', 'lp', 'lq', 'lr', 'lrg', 'lro', 'ls', 'lsecurity', 'lsj', 'lsk', 'lsr', 'lsrjt', 'lt', 'ltd', 'ltr', 'ltrs', 'lts', 'lubricant', 'lubriglide', 'luer', 'lugs', 'lumen', 'lunar', 'lunch', 'lupe', 'lv', 'lw', 'lx', 'lynchburg', 'lyophilized', 'mabie', 'mach', 'machine', 'machines', 'made', 'mag', 'magam', 'magazine', 'magenta', 'magentic', 'magic', 'magna', 'magnet', 'magneta', 'magnetic', 'magnets', 'magnum', 'mahagony', 'mahogany', 'mahurkar', 'mail', 'mailbox', 'mailboxes', 'mailer', 'mailers', 'mailing', 'main', 'maint', 'maintenance', 'major', 'make', 'maker', 'makers', 'mal', 'male', 'management', 'manager', 'mani', 'manifold', 'manila', 'manilla', 'manual', 'map', 'mar', 'marble', 'marc', 'marcal', 'march', 'margin', 'mark', 'markal', 'marker', 'markerboard', 'markerboards', 'markers', 'markershighlighter', 'markerstube', 'marketing', 'marking', 'marks', 'maroon', 'marrow', 'mars', 'marsh', 'martin', 'mas', 'mask', 'masking', 'master', 'masterbow', 'masters', 'mat', 'mate', 'mater', 'material', 'maternity', 'matetm', 'matic', 'matrix', 'matt', 'matte', 'mattress', 'mav', 'maverick', 'max', 'maxell', 'maxi', 'may', 'mb', 'mbl', 'mbm', 'mc', 'mcdonald', 'mcg', 'mco', 'md', 'mdl', 'mea', 'mean', 'mec', 'mech', 'mechanical', 'med', 'medcomp', 'medi', 'media', 'medical', 'medicine', 'medium', 'medpt', 'medrol', 'medtronic', 'mei', 'melamine', 'memantin', 'memo', 'memorandum', 'mercury', 'mesh', 'message', 'messenger', 'met', 'metal', 'metalic', 'metallic', 'meter', 'meters', 'metric', 'metro', 'mf', 'mfc', 'mfd', 'mfg', 'mfp', 'mfr', 'mfw', 'mg', 'mgcap', 'mgnta', 'mgr', 'mh', 'mhb', 'mhf', 'micr', 'micro', 'microbial', 'microcassette', 'microexpress', 'microferret', 'microfine', 'microline', 'micropore', 'microscopic', 'micu', 'midas', 'middle', 'mighty', 'mil', 'milano', 'mild', 'milford', 'mill', 'milliliters', 'million', 'mills', 'mils', 'milton', 'milwaukee', 'mimeograph', 'min', 'minder', 'mine', 'mini', 'miniature', 'minila', 'minolta', 'mint', 'minute', 'minutes', 'mirado', 'miranda', 'misc', 'mist', 'mita', 'mite', 'mitra', 'mixed', 'mixer', 'mixing', 'mjm', 'mjr', 'mk', 'mkq', 'mkqas', 'mktg', 'ml', 'mla', 'mm', 'mmf', 'mmm', 'mmmr', 'mmx', 'mn', 'mnl', 'mnsh', 'mnt', 'mo', 'mobile', 'mod', 'model', 'models', 'modern', 'modul', 'modular', 'module', 'moistener', 'moisteners', 'moisture', 'molded', 'monarch', 'money', 'monitor', 'mono', 'monogram', 'monster', 'mont', 'montblanc', 'month', 'monthly', 'months', 'monticello', 'montly', 'moore', 'mop', 'mort', 'mortgage', 'mortuary', 'mos', 'mosaic', 'moserbaer', 'motorcycle', 'mount', 'mounted', 'mounting', 'mouth', 'mouthwash', 'mp', 'mr', 'mrc', 'mrkr', 'mro', 'mru', 'ms', 'msds', 'mse', 'msg', 'msv', 'mt', 'mtl', 'mtr', 'mts', 'mult', 'multi', 'multicolor', 'multicolored', 'multidex', 'multifold', 'multifunc', 'multifunction', 'multiple', 'multipurpose', 'multisubject', 'multiuse', 'murata', 'muratec', 'mvalley', 'mw', 'mx', 'mxb', 'mylar', 'na', 'nail', 'namc', 'name', 'nano', 'nanogel', 'napkin', 'napkins', 'nappy', 'narrow', 'nas', 'nasal', 'nasopharyng', 'nasopharyngeal', 'nat', 'nationwide', 'natural', 'nature', 'navel', 'navy', 'nb', 'nc', 'ncr', 'nd', 'nday', 'ndc', 'ne', 'neck', 'need', 'needed', 'needle', 'needles', 'needted', 'neenah', 'negro', 'neo', 'neon', 'neonatal', 'nerlon', 'nero', 'nett', 'network', 'neuro', 'new', 'newsprint', 'newsprints', 'nf', 'nfcu', 'nfib', 'ngo', 'nhb', 'nhp', 'nib', 'nibp', 'niceday', 'nickels', 'nicu', 'night', 'nihon', 'nimbus', 'nippo', 'nipro', 'nirlife', 'nitrogen', 'nk', 'nls', 'nm', 'nobel', 'noboa', 'noir', 'non', 'nonglare', 'nonrefillable', 'nonskid', 'nonstick', 'nontoxic', 'nonwoven', 'noor', 'noritake', 'norm', 'northern', 'nos', 'notary', 'note', 'notebook', 'notebooks', 'notepad', 'notepads', 'notepro', 'notes', 'notice', 'nozak', 'np', 'npg', 'nr', 'nrs', 'ns', 'nsh', 'nsn', 'nstrl', 'nsw', 'nt', 'nu', 'nuk', 'nukb', 'nukote', 'num', 'number', 'numbered', 'numberers', 'numbering', 'numbers', 'numed', 'nurses', 'nut', 'nutmeg', 'nw', 'nx', 'ny', 'nylon', 'oa', 'oak', 'observation', 'obsolete', 'oce', 'ocr', 'od', 'odom', 'odor', 'oe', 'oem', 'officdelano', 'office', 'officejet', 'offices', 'offset', 'oh', 'ohio', 'oic', 'oil', 'oint', 'ointment', 'oki', 'okidata', 'okifax', 'olive', 'oly', 'olympus', 'onco', 'one', 'onestep', 'onion', 'onyx', 'oops', 'op', 'opa', 'opaque', 'open', 'opener', 'opening', 'openner', 'openning', 'operated', 'operations', 'operative', 'opq', 'optima', 'optimizers', 'option', 'optional', 'optiple', 'optra', 'opty', 'oral', 'oran', 'orange', 'orbit', 'orchid', 'ord', 'order', 'oregon', 'org', 'organizer', 'organizers', 'original', 'ormsby', 'ortho', 'os', 'osram', 'ot', 'others', 'ounce', 'outer', 'outlet', 'outline', 'output', 'outputstacker', 'oval', 'overhead', 'oversize', 'oversized', 'owens', 'ox', 'oxford', 'oxfordr', 'oxide', 'oxylog', 'oz', 'ozone', 'pa', 'pac', 'pack', 'package', 'packaging', 'packard', 'packed', 'packet', 'packets', 'packing', 'packinglist', 'packs', 'pacon', 'pad', 'padded', 'padding', 'padfolio', 'padilla', 'pads', 'padsteno', 'paed', 'paediatric', 'pag', 'page', 'pagepro', 'pages', 'paid', 'pain', 'paint', 'painting', 'pair', 'pak', 'palacos', 'pallet', 'palm', 'pan', 'panafax', 'panasonic', 'panduit', 'panel', 'panels', 'panoffice', 'panoramic', 'pantone', 'pap', 'paper', 'paperboard', 'paperboards', 'papermate', 'paperpro', 'papers', 'papertowels', 'paperweight', 'papper', 'par', 'para', 'paracetamol', 'paragon', 'paramo', 'paramount', 'paramountfarms', 'parcel', 'parchment', 'park', 'parkcenter', 'parker', 'parking', 'part', 'partisan', 'partition', 'partitions', 'parts', 'party', 'pass', 'pastel', 'pastels', 'patch', 'path', 'pathalogy', 'patient', 'patti', 'paul', 'pavlicek', 'pay', 'payroll', 'pb', 'pbm', 'pc', 'pcc', 'pcks', 'pckt', 'pcl', 'pcr', 'pcro', 'pd', 'pda', 'pde', 'pe', 'pea', 'peadiatric', 'pearl', 'pebble', 'pedal', 'pediatric', 'pedibact', 'peel', 'peg', 'pen', 'pena', 'penbk', 'penc', 'pencil', 'pencils', 'pencilsdegree', 'pendaflex', 'pennies', 'penpol', 'penqe', 'penrefills', 'pens', 'pension', 'pensions', 'pensretractable', 'pensrollerball', 'pental', 'pentel', 'pentelr', 'per', 'perf', 'perfect', 'perforated', 'performa', 'perm', 'permanant', 'permanent', 'permanet', 'pers', 'personal', 'personalized', 'personnel', 'petite', 'pewter', 'pf', 'pfm', 'pfna', 'pfs', 'pg', 'pgs', 'phaco', 'phano', 'phaosphate', 'pharma', 'pharmacy', 'phaser', 'phasers', 'phd', 'philips', 'phoenix', 'phone', 'photo', 'photoconductor', 'photocopier', 'photocopy', 'photographic', 'photography', 'photosmart', 'php', 'phrase', 'phylline', 'pi', 'pica', 'pick', 'pickett', 'pickup', 'picnic', 'piece', 'pieces', 'pil', 'pillow', 'pilot', 'pilotr', 'pin', 'pink', 'pinnacle', 'pins', 'pipe', 'pistachio', 'pistol', 'pit', 'pitch', 'pitney', 'pitt', 'pk', 'pkg', 'pkt', 'pkwy', 'pl', 'place', 'plain', 'plan', 'planner', 'planners', 'planning', 'plant', 'plas', 'plasma', 'plaster', 'plastic', 'plate', 'platen', 'plates', 'platinum', 'playful', 'plier', 'plnr', 'plotter', 'plotters', 'plugs', 'plumbing', 'plus', 'ply', 'plz', 'pm', 'pmf', 'pms', 'pn', 'pneumatic', 'pnk', 'pnt', 'po', 'pock', 'pocket', 'pockets', 'point', 'pointed', 'points', 'policy', 'poly', 'polycovers', 'polyester', 'polyethylene', 'polymer', 'polypropylene', 'pom', 'pomeroy', 'pop', 'popup', 'porcelain', 'porous', 'port', 'porta', 'portable', 'pos', 'position', 'post', 'postable', 'postage', 'postcard', 'postcards', 'posted', 'poster', 'postit', 'postits', 'pot', 'pouch', 'pouches', 'pouchets', 'pour', 'powder', 'power', 'powered', 'powershred', 'pox', 'pp', 'ppf', 'ppm', 'ppr', 'pr', 'prang', 'prct', 'pre', 'precise', 'precision', 'preference', 'preferred', 'preformed', 'preinked', 'prem', 'premier', 'premium', 'preprinted', 'prerun', 'pres', 'prescription', 'presentation', 'preservative', 'press', 'pressboard', 'presses', 'pressure', 'prestige', 'presto', 'prevatte', 'preventa', 'price', 'prin', 'print', 'printable', 'printband', 'printe', 'printed', 'printer', 'printercopierfax', 'printers', 'printhead', 'printing', 'printout', 'printr', 'printwheel', 'priority', 'prism', 'prismacolor', 'privacy', 'prnt', 'prntr', 'pro', 'process', 'processor', 'proclick', 'proctectors', 'product', 'production', 'productolith', 'prof', 'professional', 'profile', 'program', 'project', 'prolongatum', 'prolonged', 'prong', 'pronto', 'proof', 'prot', 'protect', 'protecters', 'protecting', 'protection', 'protector', 'protectors', 'protin', 'protractor', 'prova', 'provident', 'providing', 'prt', 'prussia', 'ps', 'psa', 'psbd', 'psi', 'pt', 'pta', 'ptca', 'ptic', 'ptmc', 'ptpl', 'ptsc', 'pu', 'pub', 'public', 'puffs', 'pull', 'pullman', 'pump', 'punch', 'punched', 'puncher', 'punches', 'punching', 'puppies', 'pur', 'purchase', 'purp', 'purple', 'purpose', 'pushcap', 'putty', 'pv', 'pvc', 'pw', 'px', 'py', 'pyramid', 'pz', 'qa', 'qc', 'qe', 'qeb', 'ql', 'qms', 'qr', 'qrt', 'qt', 'qte', 'qtly', 'qty', 'qtz', 'qu', 'qua', 'quadrille', 'quality', 'qualpro', 'quanti', 'quantiamate', 'quantit', 'quantity', 'quarter', 'quarterly', 'quarters', 'quartet', 'quattro', 'quick', 'quickball', 'quicker', 'quicknotes', 'quill', 'quin', 'quinton', 'quote', 'ra', 'rack', 'racold', 'rad', 'radiation', 'radiology', 'radius', 'raffle', 'rag', 'rail', 'raleigh', 'ralph', 'ramirez', 'random', 'rapid', 'rapidoplot', 'rare', 'rate', 'ray', 'razor', 'razzle', 'rb', 'rbbr', 'rbbrgrp', 'rbe', 'rbk', 'rbn', 'rbr', 'rc', 'rca', 'rcc', 'rch', 'rci', 'rcs', 'rcy', 'rd', 'rea', 'reach', 'read', 'reading', 'ready', 'reagent', 'reagents', 'ream', 'reams', 'rear', 'rebecca', 'rec', 'recap', 'receipt', 'received', 'receiver', 'receptacle', 'recessed', 'rechargeable', 'reclosable', 'record', 'recordcmr', 'recorder', 'recorders', 'recording', 'records', 'recovery', 'rect', 'recy', 'recycle', 'recycled', 'red', 'reddys', 'redi', 'redicaps', 'redipoint', 'redistrip', 'rediuse', 'redline', 'reducer', 'reems', 'ref', 'reference', 'referral', 'refi', 'refil', 'refill', 'refillable', 'refilled', 'refills', 'refillsers', 'refils', 'reflex', 'reflrbbg', 'refurbished', 'reg', 'regeneration', 'regenerations', 'regional', 'register', 'regular', 'regulator', 'reinf', 'reinforced', 'reject', 'relations', 'release', 'rem', 'reman', 'remanuf', 'remanufactured', 'remanufatured', 'remfg', 'reminder', 'removable', 'remover', 'removers', 'renal', 'reord', 'repair', 'repl', 'replaceable', 'replacement', 'reply', 'report', 'reporting', 'reports', 'repositionable', 'repositional', 'representative', 'request', 'required', 'requisition', 'research', 'reservoir', 'resin', 'resistant', 'resolaters', 'resources', 'respicaps', 'respule', 'respules', 'ret', 'retard', 'retention', 'retirement', 'retr', 'retrac', 'retract', 'retractable', 'retractor', 'retrc', 'return', 'reusable', 'rev', 'revera', 'reversable', 'reversible', 'revised', 'revolving', 'rex', 'rf', 'rfcl', 'rg', 'rh', 'rhc', 'rhelax', 'rhesolve', 'rhinolin', 'rhinotek', 'ri', 'rib', 'ribb', 'ribbed', 'ribbion', 'ribbions', 'ribbo', 'ribbon', 'ribbons', 'ribn', 'ribons', 'ric', 'rich', 'richard', 'richo', 'rick', 'ricoh', 'rider', 'ridge', 'ridged', 'right', 'rigid', 'rims', 'ring', 'ringbanden', 'ringed', 'rings', 'rio', 'riser', 'rita', 'riv', 'riverside', 'rivet', 'rj', 'rkq', 'rkqc', 'rl', 'rlc', 'rld', 'rll', 'rlr', 'rls', 'rm', 'rmf', 'rmro', 'rms', 'rnd', 'rnm', 'ro', 'road', 'roche', 'rock', 'rocker', 'rocky', 'rol', 'role', 'roll', 'rolled', 'roller', 'rollerball', 'rollerballs', 'rollers', 'rolling', 'rolls', 'rolodex', 'rolr', 'rom', 'romson', 'romsons', 'rongeur', 'room', 'root', 'rosa', 'rose', 'rosewood', 'ross', 'rotacaps', 'rotary', 'rotating', 'round', 'rounded', 'routing', 'row', 'royal', 'rp', 'rpd', 'rplc', 'rpo', 'rr', 'rrlcp', 'rs', 'rserda', 'rsvp', 'rt', 'rtctbl', 'rtg', 'rtrcble', 'rtrct', 'rtrctbl', 'rtx', 'ru', 'rub', 'rubb', 'rubbe', 'rubber', 'rubberized', 'rubbermaid', 'rug', 'rule', 'ruled', 'ruler', 'rulers', 'ruling', 'run', 'runner', 'rusch', 'rush', 'rx', 'rxn', 'sa', 'sachet', 'sachets', 'sacramento', 'safco', 'safe', 'safety', 'sales', 'salest', 'saline', 'salmon', 'salts', 'salz', 'sam', 'samples', 'samsung', 'san', 'sand', 'sanford', 'sanfordr', 'sarasa', 'satin', 'saturday', 'saver', 'savin', 'sb', 'sbnw', 'sc', 'scale', 'scan', 'scanner', 'scenic', 'schedule', 'school', 'schwarz', 'scissor', 'scissors', 'scope', 'scotch', 'scott', 'scratch', 'screed', 'screen', 'screw', 'screws', 'scrim', 'scrub', 'scsm', 'scx', 'sd', 'sdo', 'sdrs', 'sds', 'se', 'seal', 'sealed', 'sealer', 'sealing', 'sealr', 'seals', 'seascape', 'seat', 'seater', 'sec', 'secemp', 'second', 'section', 'sector', 'secure', 'security', 'see', 'seed', 'sel', 'select', 'self', 'selfink', 'semi', 'sender', 'senior', 'senor', 'sensitive', 'sensitized', 'sensor', 'sensorpads', 'separator', 'september', 'sequentially', 'ser', 'serda', 'series', 'serrated', 'serv', 'server', 'service', 'services', 'set', 'sets', 'sewing', 'sf', 'sg', 'sgot', 'sh', 'sha', 'shade', 'shaft', 'shampoo', 'shannon', 'shaped', 'share', 'sharma', 'sharp', 'sharpened', 'sharpener', 'sharpeners', 'sharpie', 'sharpies', 'sharpwriter', 'shaving', 'sheaffer', 'shears', 'shee', 'sheet', 'sheeting', 'sheets', 'sheila', 'shelf', 'sheridan', 'shets', 'shield', 'shipping', 'shooter', 'shop', 'short', 'shotgun', 'showcase', 'shr', 'shredder', 'shredders', 'shredding', 'shrink', 'sht', 'shts', 'shuttle', 'si', 'side', 'sided', 'sides', 'siemens', 'sigma', 'sign', 'signature', 'signo', 'silhouette', 'silicone', 'silk', 'silver', 'silvertech', 'simplex', 'simulated', 'singl', 'single', 'sinus', 'sissors', 'six', 'siz', 'size', 'sized', 'sj', 'sjm', 'sk', 'sketch', 'skid', 'skilcraft', 'skillcraft', 'skin', 'sky', 'sl', 'slant', 'slash', 'sleeve', 'sleevemarker', 'sleeves', 'slim', 'slimline', 'sling', 'slip', 'slips', 'slitter', 'slot', 'slots', 'sm', 'small', 'smart', 'smc', 'smd', 'smead', 'smeadr', 'smith', 'smoke', 'smooth', 'sn', 'snap', 'snip', 'snp', 'soap', 'socket', 'soda', 'soft', 'softgrip', 'sol', 'solar', 'solid', 'solids', 'soln', 'soluition', 'solution', 'solutions', 'solvent', 'sony', 'sort', 'sorter', 'sorters', 'sorting', 'sortkwik', 'sovereign', 'sp', 'space', 'span', 'sparco', 'sparkle', 'spatula', 'special', 'speed', 'speedpro', 'spictra', 'spinal', 'spindle', 'spindles', 'spine', 'spines', 'spiral', 'spirals', 'spirit', 'spl', 'splines', 'splint', 'sponge', 'spoon', 'spr', 'spray', 'spring', 'sprinter', 'sps', 'spw', 'sq', 'square', 'squared', 'squares', 'squash', 'squeeze', 'sr', 'ss', 'ssa', 'sscy', 'st', 'sta', 'stabilo', 'stack', 'stackable', 'stacker', 'stackers', 'stacking', 'stacks', 'staedtler', 'staff', 'stainless', 'stake', 'stamp', 'stampante', 'stamped', 'stamper', 'stampers', 'stamps', 'stan', 'stand', 'standard', 'standup', 'stanley', 'stapeler', 'staple', 'stapler', 'staplers', 'staples', 'stapling', 'staplr', 'star', 'starboard', 'start', 'starter', 'startype', 'stat', 'state', 'statement', 'stationary', 'stationery', 'std', 'steel', 'steelmaster', 'stem', 'stencil', 'stencils', 'steno', 'stenographer', 'stenographers', 'stenotype', 'stent', 'stents', 'step', 'sterilization', 'sterilizer', 'sterling', 'stic', 'stick', 'stickers', 'stickey', 'stickpen', 'sticks', 'sticky', 'stitched', 'stitching', 'stix', 'stk', 'stmt', 'stnd', 'stnry', 'stock', 'stockings', 'stool', 'stop', 'stopper', 'stor', 'storage', 'store', 'storex', 'str', 'straight', 'strap', 'strapping', 'streak', 'street', 'strength', 'string', 'strip', 'stripper', 'strips', 'strp', 'stryker', 'stub', 'student', 'studio', 'stuff', 'sturdy', 'style', 'styles', 'stylo', 'stylus', 'subject', 'suburban', 'suction', 'suggestion', 'sugita', 'suites', 'sulbactam', 'sum', 'summary', 'sun', 'sunbrite', 'sunday', 'super', 'superflatclinch', 'supertoner', 'supervisor', 'suppl', 'supplies', 'supply', 'support', 'suppository', 'sure', 'surecut', 'surface', 'surgeons', 'surgery', 'surgical', 'survey', 'susp', 'suspension', 'suspn', 'sustained', 'svc', 'sw', 'swab', 'swabs', 'swan', 'swartz', 'sweet', 'swi', 'swingline', 'swintec', 'switch', 'swivel', 'sws', 'sx', 'sy', 'syg', 'symbols', 'sympathy', 'symphony', 'synergy', 'syp', 'syr', 'syringe', 'syringes', 'syrup', 'sys', 'system', 'systems', 'sz', 'ta', 'tab', 'tabbed', 'table', 'tables', 'tablet', 'tabletop', 'tablets', 'tabs', 'tack', 'tacker', 'tackwrite', 'tag', 'tall', 'tamper', 'tan', 'tank', 'tape', 'tapes', 'tapping', 'tartan', 'tartrate', 'tax', 'taylor', 'tb', 'tbd', 'tc', 'tcl', 'tcw', 'td', 'tdl', 'te', 'tea', 'teacher', 'teal', 'team', 'tear', 'tears', 'teaser', 'tec', 'tech', 'techko', 'technica', 'ted', 'tee', 'tegia', 'tektronix', 'tel', 'telecopier', 'telegraph', 'telephone', 'telex', 'temperature', 'template', 'templates', 'tempoint', 'ten', 'tend', 'tension', 'tensioner', 'tent', 'terra', 'terre', 'terumo', 'test', 'text', 'texture', 'textured', 'tf', 'tg', 'th', 'thank', 'thanksgiving', 'therapy', 'therm', 'thermabond', 'thermal', 'thermister', 'thermometer', 'thick', 'thin', 'thinkcentre', 'thomas', 'thompson', 'thrd', 'thread', 'threaded', 'three', 'thrml', 'throat', 'thru', 'thumb', 'thur', 'ti', 'tibia', 'tibial', 'ticket', 'tickets', 'ticonderoga', 'tide', 'tie', 'tier', 'tilt', 'timbrado', 'time', 'timecrd', 'timer', 'tin', 'tint', 'tinta', 'tinted', 'tiolet', 'tip', 'tips', 'tis', 'tiss', 'tissue', 'tissues', 'tit', 'titan', 'titanium', 'title', 'tj', 'tk', 'tl', 'tli', 'tm', 'tms', 'tn', 'tnc', 'tnr', 'today', 'todd', 'toilet', 'token', 'tolet', 'toliet', 'tom', 'tombo', 'tombow', 'tone', 'toner', 'tonercart', 'tonercartridge', 'tonerkartusche', 'toners', 'tonery', 'tones', 'tonic', 'tool', 'tooth', 'top', 'topgrading', 'topical', 'tops', 'topsr', 'toshiba', 'tot', 'total', 'totalizing', 'touch', 'tow', 'towards', 'towel', 'towels', 'tower', 'tp', 'tpe', 'tpr', 'tr', 'tracing', 'traction', 'tractor', 'trad', 'traditional', 'training', 'trans', 'transasia', 'transcaps', 'transfer', 'transfusion', 'transfution', 'translucent', 'transparency', 'transparent', 'transport', 'trap', 'trasfer', 'travel', 'tray', 'trays', 'tread', 'treated', 'treatment', 'trend', 'tri', 'triangle', 'triangular', 'tricolor', 'trilogy', 'trim', 'trimmer', 'trimmers', 'trio', 'triple', 'triplicate', 'trnsfr', 'trocar', 'troy', 'ts', 'tub', 'tube', 'tubes', 'tubing', 'tubular', 'tuck', 'tuff', 'tulare', 'tulip', 'turq', 'turquoise', 'tv', 'tw', 'twin', 'twink', 'twist', 'two', 'tx', 'tyco', 'tying', 'tympan', 'tyn', 'tynor', 'tynore', 'typ', 'type', 'typerwriter', 'typewriter', 'typewriters', 'typewritter', 'typewrt', 'typing', 'typist', 'tyvek', 'tyviii', 'tz', 'ub', 'uc', 'ud', 'ue', 'uf', 'ug', 'ukp', 'uline', 'ult', 'ultimate', 'ultra', 'ultracolor', 'ultrafine', 'ultraprecise', 'ultrasmooth', 'ultraviolet', 'ulw', 'um', 'umber', 'un', 'unbleached', 'unbreakable', 'unbuffered', 'uncoated', 'uncontrolled', 'und', 'undated', 'underwriting', 'uni', 'uniball', 'unicor', 'unif', 'unigel', 'union', 'unit', 'unite', 'united', 'units', 'univ', 'universal', 'unprinted', 'unpunched', 'unruled', 'unv', 'update', 'upgrades', 'upper', 'uppercase', 'ups', 'urea', 'urine', 'uro', 'us', 'usa', 'usable', 'usage', 'usb', 'use', 'uses', 'usp', 'utility', 'utp', 'ux', 'va', 'vaccine', 'vacumatic', 'vacuum', 'valley', 'value', 'valve', 'van', 'vanilla', 'variable', 'variety', 'varilrix', 'various', 'varsity', 'vasocon', 'vassar', 'vb', 'vball', 'vcg', 'vellium', 'vellum', 'velocity', 'venom', 'venous', 'vent', 'ver', 'verification', 'versa', 'versatile', 'version', 'vert', 'vertical', 'vertically', 'vial', 'vicryl', 'victoria', 'vidas', 'video', 'view', 'viking', 'vikings', 'vim', 'vinyl', 'vio', 'violet', 'vip', 'vis', 'visa', 'visible', 'vision', 'visiontm', 'visiting', 'visitor', 'vissco', 'vista', 'visual', 'vitamin', 'vitek', 'vitros', 'vivera', 'vk', 'vkg', 'vkt', 'vnyl', 'vochr', 'voice', 'void', 'volt', 'voltex', 'volume', 'voucher', 'voyager', 'vp', 'vs', 'vulnerable', 'vx', 'wahl', 'wal', 'wales', 'walgreens', 'wall', 'wallet', 'wallets', 'wallmount', 'walmart', 'walnut', 'warehouse', 'warmer', 'warrior', 'wasau', 'wash', 'washable', 'washer', 'washing', 'washproof', 'waste', 'water', 'watercolor', 'watercoold', 'waterman', 'watermark', 'waters', 'wau', 'wausau', 'wax', 'waxed', 'way', 'wc', 'wcp', 'weave', 'web', 'wedge', 'wedgy', 'week', 'weekly', 'weidlich', 'weight', 'weighted', 'welch', 'welcome', 'well', 'wellness', 'west', 'westcott', 'wet', 'wev', 'wevc', 'wevco', 'wh', 'wheel', 'wheeler', 'wheelwriter', 'whi', 'whit', 'white', 'whiteboard', 'whole', 'whse', 'wht', 'whtxero', 'wi', 'wick', 'wid', 'wide', 'widebody', 'width', 'wilkinson', 'wilson', 'win', 'windex', 'window', 'wing', 'winkler', 'winter', 'wipe', 'wiper', 'wipes', 'wipro', 'wire', 'wirebound', 'wireless', 'wiring', 'wirt', 'wit', 'wite', 'withe', 'without', 'wk', 'wkly', 'wlj', 'wms', 'wn', 'wo', 'woelp', 'wofqd', 'wofwb', 'womtp', 'wonder', 'wood', 'woodcase', 'wooden', 'woodline', 'word', 'work', 'workcentre', 'works', 'worksaver', 'worksheet', 'workspace', 'workstation', 'wotapp', 'wound', 'wove', 'wp', 'wrap', 'wrapped', 'wrapper', 'wrappers', 'wrapping', 'wright', 'wrist', 'writable', 'write', 'writer', 'writing', 'writting', 'ws', 'wt', 'wtb', 'ww', 'wx', 'xa', 'xaa', 'xc', 'xcel', 'xer', 'xerographic', 'xerox', 'xf', 'xl', 'xmas', 'xp', 'xpressions', 'xq', 'xr', 'xs', 'xst', 'xstamper', 'xt', 'xtra', 'xxl', 'yale', 'yards', 'yd', 'yds', 'ye', 'year', 'yearly', 'yeast', 'yel', 'yell', 'yello', 'yellow', 'yelow', 'yiel', 'yield', 'yld', 'ylw', 'york', 'yr', 'yt', 'yw', 'zazzle', 'ze', 'zeb', 'zebra', 'zedex', 'zeiss', 'zermeno', 'zid', 'zip', 'zipped', 'zipper', 'zpc']\n"
     ]
    }
   ],
   "source": [
    "# Take a look at the words in the vocabulary\n",
    "vocab = vectorizer.get_feature_names()\n",
    "print(vocab)"
   ]
  },
  {
   "cell_type": "markdown",
   "metadata": {},
   "source": [
    "#### Checking the histogram of words"
   ]
  },
  {
   "cell_type": "code",
   "execution_count": 36,
   "metadata": {
    "collapsed": false
   },
   "outputs": [
    {
     "name": "stdout",
     "output_type": "stream",
     "text": [
      "[30 13 29 ...,  4 13  6]\n"
     ]
    },
    {
     "data": {
      "text/plain": [
       "'\\nfor tag,count in zip(vocab, each):\\n    print(tag, count)\\n'"
      ]
     },
     "execution_count": 36,
     "metadata": {},
     "output_type": "execute_result"
    }
   ],
   "source": [
    "each = np.sum(train_data_features, axis=0)\n",
    "print(each)\n",
    "'''\n",
    "for tag,count in zip(vocab, each):\n",
    "    print(tag, count)\n",
    "'''"
   ]
  },
  {
   "cell_type": "markdown",
   "metadata": {},
   "source": [
    "#### Random Forest for training the model"
   ]
  },
  {
   "cell_type": "code",
   "execution_count": 43,
   "metadata": {
    "collapsed": false
   },
   "outputs": [
    {
     "name": "stdout",
     "output_type": "stream",
     "text": [
      "Training the random forest...\n",
      "Total time taken to train the model is  1140.4547901153564\n"
     ]
    }
   ],
   "source": [
    "import time\n",
    "\n",
    "print(\"Training the random forest...\")\n",
    "from sklearn.ensemble import RandomForestClassifier\n",
    "\n",
    "# Initialize a Random Forest classifier with 100 trees\n",
    "forest = RandomForestClassifier(n_estimators = 100) \n",
    "\n",
    "# Fit the forest to the training set, using the bag of words as \n",
    "# features and the sentiment labels as the response variable\n",
    "#\n",
    "start = time.time()\n",
    "# This may take a few minutes to run\n",
    "forest = forest.fit( train_data_features, df['UNSPSC_Final'] )\n",
    "end = time.time() \n",
    "\n",
    "total = end - start\n",
    "\n",
    "print(\"Total time taken to train the model is \", total)"
   ]
  },
  {
   "cell_type": "code",
   "execution_count": 1,
   "metadata": {
    "collapsed": false
   },
   "outputs": [
    {
     "ename": "NameError",
     "evalue": "name 'pd' is not defined",
     "output_type": "error",
     "traceback": [
      "\u001b[1;31m---------------------------------------------------------------------------\u001b[0m",
      "\u001b[1;31mNameError\u001b[0m                                 Traceback (most recent call last)",
      "\u001b[1;32m<ipython-input-1-87cce5390150>\u001b[0m in \u001b[0;36m<module>\u001b[1;34m()\u001b[0m\n\u001b[1;32m----> 1\u001b[1;33m \u001b[0mtest\u001b[0m \u001b[1;33m=\u001b[0m \u001b[0mpd\u001b[0m\u001b[1;33m.\u001b[0m\u001b[0mread_csv\u001b[0m\u001b[1;33m(\u001b[0m\u001b[1;34m'UNSPSCtestDataSet.csv'\u001b[0m\u001b[1;33m,\u001b[0m\u001b[0mencoding\u001b[0m\u001b[1;33m=\u001b[0m\u001b[1;34m'mac_roman'\u001b[0m\u001b[1;33m,\u001b[0m\u001b[0mlow_memory\u001b[0m\u001b[1;33m=\u001b[0m\u001b[1;32mFalse\u001b[0m\u001b[1;33m)\u001b[0m\u001b[1;33m\u001b[0m\u001b[0m\n\u001b[0m\u001b[0;32m      2\u001b[0m \u001b[1;31m# Verify that there are 25,000 rows and 2 columns\u001b[0m\u001b[1;33m\u001b[0m\u001b[1;33m\u001b[0m\u001b[0m\n\u001b[0;32m      3\u001b[0m \u001b[0mprint\u001b[0m\u001b[1;33m(\u001b[0m\u001b[0mtest\u001b[0m\u001b[1;33m.\u001b[0m\u001b[0mshape\u001b[0m\u001b[1;33m)\u001b[0m\u001b[1;33m\u001b[0m\u001b[0m\n",
      "\u001b[1;31mNameError\u001b[0m: name 'pd' is not defined"
     ]
    }
   ],
   "source": [
    "test = pd.read_csv('UNSPSCtestDataSet.csv',encoding='mac_roman',low_memory=False)\n",
    "# Verify that there are 25,000 rows and 2 columns\n",
    "print(test.shape)\n",
    "# Create an empty list and append the clean reviews one by one\n",
    "num_desc = len(test[\"MaterialDescription\"])\n",
    "clean_test_desc = [] \n",
    "\n",
    "print(\"Cleaning and parsing the test set movie reviews...\\n\")\n",
    "for i in range(0,num_desc):\n",
    "    if( (i+1) % 1000 == 0 ):\n",
    "        print(\"desc %d of %d\\n\" % (i+1, num_desc))\n",
    "    clean_desc = description_to_words(test[\"MaterialDescription\"][i])\n",
    "    clean_test_desc.append(clean_desc)"
   ]
  },
  {
   "cell_type": "code",
   "execution_count": null,
   "metadata": {
    "collapsed": true
   },
   "outputs": [],
   "source": [
    "\n",
    "# Get a bag of words for the test set, and convert to a numpy array\n",
    "test_data_features = vectorizer.transform(clean_test_desc)\n",
    "test_data_features = test_data_features.toarray()\n",
    "\n",
    "# Use the random forest to make sentiment label predictions\n",
    "result = forest.predict(test_data_features)"
   ]
  },
  {
   "cell_type": "code",
   "execution_count": null,
   "metadata": {
    "collapsed": true
   },
   "outputs": [],
   "source": [
    "# Copy the results to a pandas dataframe with an \"id\" column and\n",
    "# a \"sentiment\" column\n",
    "output = pd.DataFrame( data={\"unspscRFcode\":result} )\n",
    "\n",
    "# Use pandas to write the comma-separated output file\n",
    "output.to_csv( \".csv\", index=False)"
   ]
  }
 ],
 "metadata": {
  "anaconda-cloud": {},
  "kernelspec": {
   "display_name": "Python [conda env:tensorflow]",
   "language": "python",
   "name": "conda-env-tensorflow-py"
  },
  "language_info": {
   "codemirror_mode": {
    "name": "ipython",
    "version": 3
   },
   "file_extension": ".py",
   "mimetype": "text/x-python",
   "name": "python",
   "nbconvert_exporter": "python",
   "pygments_lexer": "ipython3",
   "version": "3.5.3"
  }
 },
 "nbformat": 4,
 "nbformat_minor": 1
}
